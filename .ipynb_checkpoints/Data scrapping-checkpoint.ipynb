{
 "cells": [
  {
   "cell_type": "code",
   "execution_count": 7,
   "id": "e0a9a666",
   "metadata": {
    "ExecuteTime": {
     "end_time": "2022-12-27T08:41:22.043338Z",
     "start_time": "2022-12-27T08:41:22.018716Z"
    }
   },
   "outputs": [],
   "source": [
    "#from bs4 import BeautifulSoup\n",
    "#import requests"
   ]
  },
  {
   "cell_type": "code",
   "execution_count": 1,
   "id": "1ab849e3",
   "metadata": {
    "ExecuteTime": {
     "end_time": "2022-12-27T13:07:27.017569Z",
     "start_time": "2022-12-27T13:07:27.002113Z"
    }
   },
   "outputs": [],
   "source": [
    "#!pip install twitterscraper\n",
    "#from twitterscraper import query_tweets\n",
    "#import pandas as pd\n",
    "\n",
    "#!pip install tweepy\n",
    "#!pip install configparser"
   ]
  },
  {
   "cell_type": "code",
   "execution_count": 2,
   "id": "bc415840",
   "metadata": {
    "ExecuteTime": {
     "end_time": "2022-12-27T13:41:39.165541Z",
     "start_time": "2022-12-27T13:41:35.435413Z"
    }
   },
   "outputs": [],
   "source": [
    "import tweepy\n",
    "import configparser\n",
    "import pandas as pd"
   ]
  },
  {
   "cell_type": "code",
   "execution_count": 5,
   "id": "e86c7cdf",
   "metadata": {
    "ExecuteTime": {
     "end_time": "2022-12-27T13:43:29.255641Z",
     "start_time": "2022-12-27T13:43:29.222165Z"
    }
   },
   "outputs": [
    {
     "data": {
      "text/plain": [
       "['config.ini']"
      ]
     },
     "execution_count": 5,
     "metadata": {},
     "output_type": "execute_result"
    }
   ],
   "source": [
    "config= configparser.ConfigParser()\n",
    "config.read('config.ini')"
   ]
  },
  {
   "cell_type": "code",
   "execution_count": 6,
   "id": "be2c2a3b",
   "metadata": {
    "ExecuteTime": {
     "end_time": "2022-12-27T13:49:54.987060Z",
     "start_time": "2022-12-27T13:49:54.962962Z"
    }
   },
   "outputs": [],
   "source": [
    "api_key= config['twitter']['api_key']\n",
    "api_key_secret= config['twitter']['api_key_secret']\n",
    "access_token= config['twitter']['access_token']"
   ]
  },
  {
   "cell_type": "code",
   "execution_count": null,
   "id": "56258fb2",
   "metadata": {},
   "outputs": [],
   "source": [
    "#authentication\n",
    "auth = tweepy.OAuthHandler(api_key, api_key_secret)\n",
    "auth.set_access_token(access_token, access_token_secret)"
   ]
  },
  {
   "cell_type": "code",
   "execution_count": null,
   "id": "7d22abea",
   "metadata": {},
   "outputs": [],
   "source": [
    "api= tweepy.API(auth)"
   ]
  },
  {
   "cell_type": "code",
   "execution_count": null,
   "id": "36e52f0c",
   "metadata": {},
   "outputs": [],
   "source": [
    "public_tweet= api.home_timeline()"
   ]
  },
  {
   "cell_type": "code",
   "execution_count": null,
   "id": "efee9ea4",
   "metadata": {},
   "outputs": [],
   "source": [
    "for tweet in public_tweets:\n",
    "    print(tweet.text)"
   ]
  },
  {
   "cell_type": "markdown",
   "id": "cb483b82",
   "metadata": {},
   "source": []
  }
 ],
 "metadata": {
  "kernelspec": {
   "display_name": "Python 3 (ipykernel)",
   "language": "python",
   "name": "python3"
  },
  "language_info": {
   "codemirror_mode": {
    "name": "ipython",
    "version": 3
   },
   "file_extension": ".py",
   "mimetype": "text/x-python",
   "name": "python",
   "nbconvert_exporter": "python",
   "pygments_lexer": "ipython3",
   "version": "3.9.13"
  },
  "toc": {
   "base_numbering": 1,
   "nav_menu": {},
   "number_sections": true,
   "sideBar": true,
   "skip_h1_title": false,
   "title_cell": "Table of Contents",
   "title_sidebar": "Contents",
   "toc_cell": false,
   "toc_position": {},
   "toc_section_display": true,
   "toc_window_display": false
  }
 },
 "nbformat": 4,
 "nbformat_minor": 5
}
